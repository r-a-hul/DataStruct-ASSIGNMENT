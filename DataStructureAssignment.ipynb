{
 "cells": [
  {
   "cell_type": "markdown",
   "id": "7497eb64-8c3d-4b35-915d-72c6eea9c93a",
   "metadata": {},
   "source": [
    "# Assignments: Data Structures in Python"
   ]
  },
  {
   "cell_type": "markdown",
   "id": "485ca771-82de-4f5d-9bf5-99b5294dfbe6",
   "metadata": {},
   "source": [
    "#### 1. Write a code to reverse a string."
   ]
  },
  {
   "cell_type": "code",
   "execution_count": 1,
   "id": "ecfce309-5cdc-49b8-9fd8-2f88e0c5061c",
   "metadata": {},
   "outputs": [
    {
     "name": "stdin",
     "output_type": "stream",
     "text": [
      "Enter a word\n",
      " Rahul\n"
     ]
    },
    {
     "name": "stdout",
     "output_type": "stream",
     "text": [
      "Reverse of Rahul :  luhaR\n"
     ]
    }
   ],
   "source": [
    "str=input(\"Enter a word\\n\")\n",
    "print(f\"Reverse of {str} : \",str[::-1])"
   ]
  },
  {
   "cell_type": "markdown",
   "id": "e5e9a014-d0ce-465e-ac13-723c4fde65d9",
   "metadata": {},
   "source": [
    "#### 2. Write a code to count the number of vowels in a string."
   ]
  },
  {
   "cell_type": "code",
   "execution_count": 2,
   "id": "51ea7bbf-39ff-4932-bad8-7b1440614aeb",
   "metadata": {},
   "outputs": [
    {
     "name": "stdin",
     "output_type": "stream",
     "text": [
      "Enter a word\n",
      " aeiou\n"
     ]
    },
    {
     "name": "stdout",
     "output_type": "stream",
     "text": [
      "Number of vowels in aeiou :  5\n"
     ]
    }
   ],
   "source": [
    "str=input(\"Enter a word\\n\")\n",
    "count=0\n",
    "str=str.lower()\n",
    "for s in str:\n",
    "  if(s=='a' or s=='e' or s=='i' or s=='o' or s=='u'):\n",
    "    count+=1\n",
    "print(f\"Number of vowels in {str} : \",count)"
   ]
  },
  {
   "cell_type": "markdown",
   "id": "1ca684fb-687b-45ad-b564-07b00d8d5b18",
   "metadata": {},
   "source": [
    "#### 3. Write a program to check if a given string is a palindrome or not."
   ]
  },
  {
   "cell_type": "code",
   "execution_count": 2,
   "id": "93095a0f-8295-4092-b5ff-af8a6202ce3f",
   "metadata": {},
   "outputs": [
    {
     "name": "stdin",
     "output_type": "stream",
     "text": [
      "Enter a word\n",
      " Rahul\n"
     ]
    },
    {
     "name": "stdout",
     "output_type": "stream",
     "text": [
      "Rahul is not a palindrome\n"
     ]
    }
   ],
   "source": [
    "str=input(\"Enter a word\\n\")\n",
    "s=str[::-1]\n",
    "if(s==str):\n",
    "  print(f\"{str} is a palindrome\")\n",
    "else:\n",
    "  print(f\"{str} is not a palindrome\")"
   ]
  },
  {
   "cell_type": "markdown",
   "id": "70b73516-c92f-4b26-943a-60a82aa54801",
   "metadata": {},
   "source": [
    "#### 4. Write a program to check if two given string are anagrams of each other."
   ]
  },
  {
   "cell_type": "code",
   "execution_count": 2,
   "id": "0260354e-ad16-4454-9ba2-aeb7a8bea0af",
   "metadata": {},
   "outputs": [
    {
     "name": "stdin",
     "output_type": "stream",
     "text": [
      "Enter first word\n",
      " Rahul\n",
      "Enter second word\n",
      " luhar\n"
     ]
    },
    {
     "name": "stdout",
     "output_type": "stream",
     "text": [
      "rahul and luhar are anagrams\n"
     ]
    }
   ],
   "source": [
    "str1=input(\"Enter first word\\n\")\n",
    "str1=str1.lower()\n",
    "str2=input(\"Enter second word\\n\")\n",
    "str2=str2.lower()\n",
    "if(sorted(str1)==sorted(str2)):\n",
    "  print(f\"{str1} and {str2} are anagrams\")\n",
    "else:\n",
    "  print(f\"{str1} and {str2} are not anagrams\")"
   ]
  },
  {
   "cell_type": "markdown",
   "id": "9b668518-a5fa-427b-b25f-73066374af5e",
   "metadata": {},
   "source": [
    "#### 5. Write a code to find all occurences of a given substring within another string."
   ]
  },
  {
   "cell_type": "code",
   "execution_count": 4,
   "id": "0f92ef7f-da9a-4473-80d0-a7e1ba7babf6",
   "metadata": {},
   "outputs": [
    {
     "name": "stdin",
     "output_type": "stream",
     "text": [
      "Enter the string\n",
      " RahulRaRa\n",
      "Enter the substring\n",
      " Ra\n"
     ]
    },
    {
     "name": "stdout",
     "output_type": "stream",
     "text": [
      "Substring \"Ra\" found at index 0\n",
      "Substring \"Ra\" found at index 5\n",
      "Substring \"Ra\" found at index 7\n"
     ]
    }
   ],
   "source": [
    "str1=input(\"Enter the string\\n\")\n",
    "str2=input(\"Enter the substring\\n\")\n",
    "index=0\n",
    "if str2 in str1:\n",
    "  while index < len(str1):\n",
    "    index = str1.find(str2, index)\n",
    "    if index == -1:\n",
    "        break\n",
    "    print(f'Substring \"{str2}\" found at index {index}')\n",
    "    index += len(str2)\n",
    "else:\n",
    "  print(f'Substring \"{str2}\" not found in \"{str1}\"')"
   ]
  },
  {
   "cell_type": "markdown",
   "id": "1d687066-9a60-44c9-9ecb-713bb4390c3b",
   "metadata": {},
   "source": [
    "#### 6. Write a code to perform basic string compression using the counts of repeated character."
   ]
  },
  {
   "cell_type": "code",
   "execution_count": null,
   "id": "2028c45e-0f21-452d-8bae-6ea27efd088c",
   "metadata": {},
   "outputs": [],
   "source": []
  },
  {
   "cell_type": "markdown",
   "id": "98085cbb-1609-459c-8381-be10f8da19dd",
   "metadata": {},
   "source": [
    "#### 7. Write a code to determine if a string has all unique characters."
   ]
  },
  {
   "cell_type": "code",
   "execution_count": 9,
   "id": "c995f07e-8499-4da0-b78f-be50bd33aae2",
   "metadata": {},
   "outputs": [
    {
     "name": "stdout",
     "output_type": "stream",
     "text": [
      "Rahul have all unique characters.\n",
      "RahulR do not have all unique characters.\n"
     ]
    }
   ],
   "source": [
    "def uniqStr(str):\n",
    "    a=\"\"\n",
    "    for x in str:\n",
    "        if x not in a:\n",
    "            a+=x\n",
    "    if(a==str):\n",
    "        print(f\"{str} have all unique characters.\")\n",
    "    else:\n",
    "        print(f\"{str} do not have all unique characters.\")\n",
    "\n",
    "uniqStr(\"Rahul\")\n",
    "uniqStr(\"RahulR\")"
   ]
  },
  {
   "cell_type": "markdown",
   "id": "0faa932d-f835-47b4-99a6-2b714d721845",
   "metadata": {},
   "source": [
    "#### 8. Write a code to convert a given string to uppercase or lowercase."
   ]
  },
  {
   "cell_type": "code",
   "execution_count": 10,
   "id": "d2a8b94b-2c7e-4d95-8f84-ec6364cd0221",
   "metadata": {},
   "outputs": [
    {
     "name": "stdout",
     "output_type": "stream",
     "text": [
      "RAHUL\n",
      "rahul\n"
     ]
    }
   ],
   "source": [
    "def toUperCase(str):\n",
    "    return str.upper()\n",
    "def tolowrCase(str):\n",
    "    return str.lower()\n",
    "\n",
    "print(toUperCase(\"RAhul\"))\n",
    "print(tolowrCase(\"Rahul\"))\n"
   ]
  },
  {
   "cell_type": "markdown",
   "id": "d56a4bb3-75a5-47b9-9e23-09ca22f719f3",
   "metadata": {},
   "source": [
    "#### 9. Write a code to count the number of words in a string."
   ]
  },
  {
   "cell_type": "code",
   "execution_count": 12,
   "id": "df52a23d-9fb2-4755-b944-c6830bee1064",
   "metadata": {},
   "outputs": [
    {
     "name": "stdout",
     "output_type": "stream",
     "text": [
      "5\n"
     ]
    }
   ],
   "source": [
    "def countWords(str):\n",
    "    count=0\n",
    "    for x in str:\n",
    "        if(x==\" \"):\n",
    "            count+=1\n",
    "    return count+1\n",
    "print(countWords(\"My name is Rahul Singh\"))"
   ]
  },
  {
   "cell_type": "markdown",
   "id": "193526fe-aef5-425a-bb41-f06a5fbfd5c7",
   "metadata": {},
   "source": [
    "#### 10. Write a code to concatenate two strings without using the + operators."
   ]
  },
  {
   "cell_type": "code",
   "execution_count": 13,
   "id": "66a1ddd0-4b35-45c6-b8ba-b3560865fbec",
   "metadata": {},
   "outputs": [
    {
     "name": "stdout",
     "output_type": "stream",
     "text": [
      "Rahul Singh\n"
     ]
    }
   ],
   "source": [
    "def concStr(str1, str2):\n",
    "    return str1+str2\n",
    "print(concStr(\"Rahul \",\"Singh\"))"
   ]
  },
  {
   "cell_type": "markdown",
   "id": "ae9c57f6-4ee3-40b4-a660-6b57e4379786",
   "metadata": {},
   "source": [
    "#### 11. Write a code to remove all occurrences of a specific element from a lists."
   ]
  },
  {
   "cell_type": "code",
   "execution_count": 6,
   "id": "2ff62828-d6cc-4179-9a5d-ff4dbb8c73ae",
   "metadata": {},
   "outputs": [
    {
     "name": "stdout",
     "output_type": "stream",
     "text": [
      "[1, 3, 4, 1, 3]\n"
     ]
    }
   ],
   "source": [
    "def remList(l,e):\n",
    "    return [x for x in l if x != e]\n",
    "    # while e in l:\n",
    "    #     l.remove(e)\n",
    "    # return l\n",
    "print(remList([1,2,2,3,4,2,2,1,3],2))"
   ]
  },
  {
   "cell_type": "markdown",
   "id": "19f39394-6854-483d-ab41-e2dec9e19302",
   "metadata": {},
   "source": [
    "#### 12. Implement a code to find the second largest number in a given list of integers."
   ]
  },
  {
   "cell_type": "code",
   "execution_count": 11,
   "id": "6684d33d-07c6-498e-b898-7a1e5d973608",
   "metadata": {},
   "outputs": [
    {
     "name": "stdout",
     "output_type": "stream",
     "text": [
      "6\n"
     ]
    }
   ],
   "source": [
    "def secLarg(l):\n",
    "    larg=-1\n",
    "    secLarg=-1\n",
    "    for x in l:\n",
    "        if(x>larg):\n",
    "            larg,secLarg=x,larg\n",
    "        elif(x>secLarg):\n",
    "            secLarg=x\n",
    "    return secLarg\n",
    "\n",
    "print(secLarg([9,1,4,6,3,1,2,4,5,5,5,2,1,3.2,1]))"
   ]
  },
  {
   "cell_type": "markdown",
   "id": "fca1883b-08d6-4e63-96ab-fca5870eb8fb",
   "metadata": {},
   "source": [
    "#### 13. Create a code to count the occurrences of each element in a list and return a dictionary with elements as keys and their counts as values."
   ]
  },
  {
   "cell_type": "code",
   "execution_count": 13,
   "id": "7b3886fa-ad22-4342-a1cc-94be0d7c02e2",
   "metadata": {},
   "outputs": [
    {
     "name": "stdout",
     "output_type": "stream",
     "text": [
      "{9: 1, 1: 4, 4: 2, 6: 1, 3: 2, 2: 3, 5: 3}\n"
     ]
    }
   ],
   "source": [
    "def countOcc(l):\n",
    "    d={}\n",
    "    for x in l:\n",
    "        if(x in d):\n",
    "            d[x]+=1\n",
    "        else:\n",
    "            d[x]=1\n",
    "    return d\n",
    "\n",
    "print(countOcc([9,1,4,6,3,1,2,4,5,5,5,2,1,3,2,1]))"
   ]
  },
  {
   "cell_type": "markdown",
   "id": "36a99f1d-576e-4a0b-9980-dd036bb9b44a",
   "metadata": {},
   "source": [
    "#### 14.  Write a code to reverse a list in-place without using any built-in reverse functions."
   ]
  },
  {
   "cell_type": "code",
   "execution_count": 18,
   "id": "93628afd-3030-4299-a08a-cec394eb572a",
   "metadata": {},
   "outputs": [
    {
     "name": "stdout",
     "output_type": "stream",
     "text": [
      "[6, 5, 4, 3, 2, 1]\n"
     ]
    }
   ],
   "source": [
    "def revList(l):\n",
    "    n=len(l)\n",
    "    for x in range(int(n/2)):\n",
    "        l[x],l[n-x-1]=l[n-x-1],l[x]\n",
    "    return l\n",
    "print(revList([1,2,3,4,5,6]))"
   ]
  },
  {
   "cell_type": "markdown",
   "id": "da0fed7f-d735-4a8d-a5ab-6a785b8c53d7",
   "metadata": {},
   "source": [
    "#### 15. Implement a code to find and remove duplicates from a list while preserving the original order of elements."
   ]
  },
  {
   "cell_type": "code",
   "execution_count": 19,
   "id": "b42a05d3-9144-4dde-aa73-aa3fce9a5465",
   "metadata": {},
   "outputs": [
    {
     "name": "stdout",
     "output_type": "stream",
     "text": [
      "[9, 1, 4, 6, 3, 2, 5]\n"
     ]
    }
   ],
   "source": [
    "def remDup(l):\n",
    "    rem=[]\n",
    "    for x in l:\n",
    "        if x not in rem:\n",
    "            rem.append(x)\n",
    "    return rem\n",
    "print(remDup([9,1,4,6,3,1,2,4,5,5,5,2,1,3,2,1]))"
   ]
  },
  {
   "cell_type": "markdown",
   "id": "d49ec815-f62c-4c5f-ae07-2d6993551f93",
   "metadata": {},
   "source": [
    "#### 16. Create a code to check if a given list is sorted (either in ascending or descending order) or not."
   ]
  },
  {
   "cell_type": "code",
   "execution_count": 3,
   "id": "19deb906-5802-4e6d-802f-87cc73e338b3",
   "metadata": {},
   "outputs": [
    {
     "name": "stdout",
     "output_type": "stream",
     "text": [
      "List is Sorted.\n",
      "List is not Sorted.\n"
     ]
    }
   ],
   "source": [
    "def checkAsc(l):\n",
    "    for x in range(len(l)-1):\n",
    "        if l[x]>l[x+1]:\n",
    "            return False\n",
    "    return True\n",
    "    \n",
    "def checkDes(l):\n",
    "    for x in range(len(l)-1):\n",
    "        if l[x]<l[x+1]:\n",
    "            return False\n",
    "    return True\n",
    "        \n",
    "def checkSorted(l):\n",
    "    if(checkAsc(l) or checkDes(l)):\n",
    "        print(\"List is Sorted.\")\n",
    "    else:\n",
    "        print(\"List is not Sorted.\")\n",
    "        \n",
    "checkSorted([1,2,3,4,56,67])\n",
    "checkSorted([9,8,7,6,5,45,3,1])"
   ]
  },
  {
   "cell_type": "markdown",
   "id": "80f94168-076b-4440-820d-f7f71f77d73f",
   "metadata": {},
   "source": [
    "#### 17. Write a code to merge two sorted lists into a single sorted lists."
   ]
  },
  {
   "cell_type": "code",
   "execution_count": 8,
   "id": "f55ef58e-4bc1-4f81-a014-44d385a04ed6",
   "metadata": {},
   "outputs": [
    {
     "name": "stdout",
     "output_type": "stream",
     "text": [
      "[1, 2, 3, 4, 5, 6, 7, 8, 9, 10, 11, 12, 13]\n"
     ]
    }
   ],
   "source": [
    "def merge(l1,l2):\n",
    "    i=0\n",
    "    j=0\n",
    "    m=[]\n",
    "    n=min(len(l1),len(l2))\n",
    "    while i < len(l1) and j < len(l2):\n",
    "          if(l1[i]<l2[j]):\n",
    "              m.append(l1[i])\n",
    "              i+=1\n",
    "          else:\n",
    "              m.append(l2[j])\n",
    "              j+=1\n",
    "    for x in range(i,len(l1)):\n",
    "          m.append(l1[i])\n",
    "          i+=1\n",
    "    for x in range(j,len(l2)):\n",
    "          m.append(l2[j])\n",
    "          j+=1\n",
    "    print(m)\n",
    "          \n",
    "l1=[1,3,5,7,9,11,12,13]\n",
    "l2=[2,4,6,8,10]\n",
    "merge(l1,l2)"
   ]
  },
  {
   "cell_type": "markdown",
   "id": "5ca0004e-2b04-4348-891d-7130dd191d12",
   "metadata": {},
   "source": [
    "#### 18. Implement a code to find the intersection of two given lists."
   ]
  },
  {
   "cell_type": "code",
   "execution_count": 9,
   "id": "e73b40f6-83d4-4f3a-b054-750ae705ba44",
   "metadata": {},
   "outputs": [
    {
     "data": {
      "text/plain": [
       "[1, 334, 123, 11]"
      ]
     },
     "execution_count": 9,
     "metadata": {},
     "output_type": "execute_result"
    }
   ],
   "source": [
    "def intersection(l1, l2):\n",
    "    m=[]\n",
    "    for x in l1:\n",
    "        if x in l2:\n",
    "            m.append(x)\n",
    "    return m\n",
    "\n",
    "l1=[12,1,2,334,123,11]\n",
    "l2=[1,19,21,334,123,11]\n",
    "intersection(l1,l2)"
   ]
  },
  {
   "cell_type": "markdown",
   "id": "b2a534ca-2a1c-43e5-8a94-32cf8b8d594d",
   "metadata": {},
   "source": [
    "#### 19. Create a code to find the union of two lists without duplicates."
   ]
  },
  {
   "cell_type": "code",
   "execution_count": 10,
   "id": "80907db6-ca27-40bf-b1d0-787519c05850",
   "metadata": {},
   "outputs": [
    {
     "data": {
      "text/plain": [
       "[12, 1, 2, 334, 123, 11, 19, 21]"
      ]
     },
     "execution_count": 10,
     "metadata": {},
     "output_type": "execute_result"
    }
   ],
   "source": [
    "def union(l1,l2):\n",
    "    m=[]\n",
    "    for x in l1:\n",
    "        m.append(x)\n",
    "    for x in l2:\n",
    "        if x not in m:\n",
    "            m.append(x)\n",
    "    return m\n",
    "\n",
    "l1=[12,1,2,334,123,11]\n",
    "l2=[1,19,21,334,123,11]\n",
    "union(l1,l2)"
   ]
  },
  {
   "cell_type": "markdown",
   "id": "2a28b994-6ed1-4b01-aac0-7c0f5924dcac",
   "metadata": {},
   "source": [
    "#### 20. Write a code to shuffle a given list randomly without using any built-in shuffle functions."
   ]
  },
  {
   "cell_type": "code",
   "execution_count": null,
   "id": "1194370e-20fa-4069-b2f8-ff943b7e5d10",
   "metadata": {},
   "outputs": [],
   "source": []
  },
  {
   "cell_type": "markdown",
   "id": "efa368cd-8a32-4ebc-80bb-94ebd30d6fbc",
   "metadata": {},
   "source": [
    "#### 21. Write a code that takes two tuples as input and returns a new tuple containing elements that are common to both input tuples."
   ]
  },
  {
   "cell_type": "code",
   "execution_count": 17,
   "id": "43b9f18d-4a37-42fb-8626-227798a21f8c",
   "metadata": {},
   "outputs": [
    {
     "data": {
      "text/plain": [
       "(1, 334, 123, 11)"
      ]
     },
     "execution_count": 17,
     "metadata": {},
     "output_type": "execute_result"
    }
   ],
   "source": [
    "def commonTuple(t1,t2):\n",
    "    t=tuple()\n",
    "    for x in t1:\n",
    "        if x in t2:\n",
    "            t=t + (x,)\n",
    "    return t\n",
    "\n",
    "t1=(12,1,2,334,123,11)\n",
    "t2=(1,19,21,334,123,11)\n",
    "commonTuple(t1,t2)"
   ]
  },
  {
   "cell_type": "markdown",
   "id": "64f3d9df-1b6e-4b77-b47c-ea0c78b17359",
   "metadata": {},
   "source": [
    "#### 22. Create a code that prompts the user to enter two sets of integers separated by commas. Then print the intersection of these two sets."
   ]
  },
  {
   "cell_type": "code",
   "execution_count": 3,
   "id": "02a8e637-09bc-43a0-a09c-97c0c2b29b45",
   "metadata": {},
   "outputs": [
    {
     "name": "stdin",
     "output_type": "stream",
     "text": [
      "enter elements of Set 1(Enter 0 to terminate set 1) :  1\n",
      "enter elements of Set 1(Enter 0 to terminate set 1) :  3\n",
      "enter elements of Set 1(Enter 0 to terminate set 1) :  5\n",
      "enter elements of Set 1(Enter 0 to terminate set 1) :  2\n",
      "enter elements of Set 1(Enter 0 to terminate set 1) :  0\n",
      "enter elements of Set 2(Enter 0 to terminate set 2) :  2\n",
      "enter elements of Set 2(Enter 0 to terminate set 2) :  4\n",
      "enter elements of Set 2(Enter 0 to terminate set 2) :  5\n",
      "enter elements of Set 2(Enter 0 to terminate set 2) :  1\n",
      "enter elements of Set 2(Enter 0 to terminate set 2) :  0\n"
     ]
    },
    {
     "name": "stdout",
     "output_type": "stream",
     "text": [
      "{1, 2, 5}\n"
     ]
    }
   ],
   "source": [
    "s1=set()\n",
    "n=int(input(\"enter elements of Set 1(Enter 0 to terminate set 1) : \"))\n",
    "while(n!=0):\n",
    "    s1.add(n)\n",
    "    n=int(input(\"enter elements of Set 1(Enter 0 to terminate set 1) : \"))\n",
    "\n",
    "s2=set()\n",
    "n=int(input(\"enter elements of Set 2(Enter 0 to terminate set 2) : \"))\n",
    "while(n!=0):\n",
    "    s2.add(n)\n",
    "    n=int(input(\"enter elements of Set 2(Enter 0 to terminate set 2) : \"))\n",
    "\n",
    "a=set()\n",
    "for x in s1:\n",
    "    if x in s2:\n",
    "        a.add(x)\n",
    "print(a)"
   ]
  },
  {
   "cell_type": "markdown",
   "id": "3de30292-a7d0-4611-974c-c16f427152c9",
   "metadata": {},
   "source": [
    "#### 23. Write a code to concatenate two tuples. The function should take two tuples as input and return a new tuple containing elements from both input tuples."
   ]
  },
  {
   "cell_type": "code",
   "execution_count": 1,
   "id": "8db4af77-afd4-4300-b931-138b2ae5e023",
   "metadata": {},
   "outputs": [
    {
     "data": {
      "text/plain": [
       "(12, 1, 2, 334, 123, 11, 1, 19, 21, 334, 123, 11)"
      ]
     },
     "execution_count": 1,
     "metadata": {},
     "output_type": "execute_result"
    }
   ],
   "source": [
    "def concTuple(t1,t2):\n",
    "    return t1+t2\n",
    "t1=(12,1,2,334,123,11)\n",
    "t2=(1,19,21,334,123,11)\n",
    "concTuple(t1,t2)"
   ]
  },
  {
   "cell_type": "markdown",
   "id": "8d3b5975-4694-4d40-ba8e-2e631818fec7",
   "metadata": {},
   "source": [
    "#### 24. Develop a code that prompts the user to input two sets of strings. Then print the elements that are present in the first set but not in the second sets."
   ]
  },
  {
   "cell_type": "code",
   "execution_count": 2,
   "id": "77510bfd-68c8-45b8-a69d-59a902244d12",
   "metadata": {},
   "outputs": [
    {
     "name": "stdin",
     "output_type": "stream",
     "text": [
      "enter elements of Set 1(Enter 0 to terminate set 1) :  MY\n",
      "enter elements of Set 1(Enter 0 to terminate set 1) :  NAME\n",
      "enter elements of Set 1(Enter 0 to terminate set 1) :  IS\n",
      "enter elements of Set 1(Enter 0 to terminate set 1) :  RAHUL\n",
      "enter elements of Set 1(Enter 0 to terminate set 1) :  SINGH\n",
      "enter elements of Set 1(Enter 0 to terminate set 1) :  0\n"
     ]
    },
    {
     "name": "stdout",
     "output_type": "stream",
     "text": [
      "Set 1 completed\n"
     ]
    },
    {
     "name": "stdin",
     "output_type": "stream",
     "text": [
      "enter elements of Set 2(Enter 0 to terminate set 2) :  RAHUL\n",
      "enter elements of Set 2(Enter 0 to terminate set 2) :  SINGH\n",
      "enter elements of Set 2(Enter 0 to terminate set 2) :  PLAYS\n",
      "enter elements of Set 2(Enter 0 to terminate set 2) :  CRICKET\n",
      "enter elements of Set 2(Enter 0 to terminate set 2) :  0\n"
     ]
    },
    {
     "name": "stdout",
     "output_type": "stream",
     "text": [
      "{'NAME', 'MY', 'IS'}\n"
     ]
    }
   ],
   "source": [
    "s1=set()\n",
    "n=input(\"enter elements of Set 1(Enter 0 to terminate set 1) : \")\n",
    "while(n!=\"0\"):\n",
    "    s1.add(n)\n",
    "    n=input(\"enter elements of Set 1(Enter 0 to terminate set 1) : \")\n",
    "    \n",
    "print(\"Set 1 completed\")\n",
    "\n",
    "s2=set()\n",
    "n=input(\"enter elements of Set 2(Enter 0 to terminate set 2) : \")\n",
    "while(n!=\"0\"):\n",
    "    s2.add(n)\n",
    "    n=input(\"enter elements of Set 2(Enter 0 to terminate set 2) : \")\n",
    "    \n",
    "s=set()\n",
    "for x in s1:\n",
    "    if x not in s2:\n",
    "        s.add(x)\n",
    "print(s)"
   ]
  },
  {
   "cell_type": "markdown",
   "id": "5dba6a12-74c7-4cf2-a9e7-7701dd94e59d",
   "metadata": {},
   "source": [
    "#### 25. Create a code that takes a tuple and two integers as input. The function should return a new tuple containing elements from the original tuple within the specified range of indices."
   ]
  },
  {
   "cell_type": "code",
   "execution_count": 7,
   "id": "97fce7fc-3d1a-482e-bfe5-6ffe853cd422",
   "metadata": {},
   "outputs": [
    {
     "data": {
      "text/plain": [
       "(2, 334, 123, 11)"
      ]
     },
     "execution_count": 7,
     "metadata": {},
     "output_type": "execute_result"
    }
   ],
   "source": [
    "def subTup(t1,a,b):\n",
    "    t=()\n",
    "    for x in range(a,b+1):\n",
    "        t+=(t1[x],)\n",
    "    return t\n",
    "t1=(12,1,2,334,123,11)\n",
    "subTup(t1,2,5)"
   ]
  },
  {
   "cell_type": "markdown",
   "id": "9fa233d8-a1fe-4cd5-9fe5-18405e9031e5",
   "metadata": {},
   "source": [
    "#### 26. Write a code that prompts the user to input two sets of characters.Then print the union of these two sets."
   ]
  },
  {
   "cell_type": "code",
   "execution_count": 12,
   "id": "97efceb5-6cd2-4a7c-9c4f-319b651e0034",
   "metadata": {},
   "outputs": [
    {
     "name": "stdin",
     "output_type": "stream",
     "text": [
      "enter elements of Set 1(Enter 0 to terminate set 1) :  a\n",
      "enter elements of Set 1(Enter 0 to terminate set 1) :  b\n",
      "enter elements of Set 1(Enter 0 to terminate set 1) :  c\n",
      "enter elements of Set 1(Enter 0 to terminate set 1) :  0\n"
     ]
    },
    {
     "name": "stdout",
     "output_type": "stream",
     "text": [
      "Set 1 completed\n"
     ]
    },
    {
     "name": "stdin",
     "output_type": "stream",
     "text": [
      "enter elements of Set 2(Enter 0 to terminate set 2) :  a\n",
      "enter elements of Set 2(Enter 0 to terminate set 2) :  c\n",
      "enter elements of Set 2(Enter 0 to terminate set 2) :  b\n",
      "enter elements of Set 2(Enter 0 to terminate set 2) :  e\n",
      "enter elements of Set 2(Enter 0 to terminate set 2) :  d\n",
      "enter elements of Set 2(Enter 0 to terminate set 2) :  0\n"
     ]
    },
    {
     "data": {
      "text/plain": [
       "{'a', 'b', 'c', 'd', 'e'}"
      ]
     },
     "execution_count": 12,
     "metadata": {},
     "output_type": "execute_result"
    }
   ],
   "source": [
    "def unionS(s1,s2):\n",
    "    return s1|s2\n",
    "\n",
    "\n",
    "s1=set()\n",
    "n=input(\"enter elements of Set 1(Enter 0 to terminate set 1) : \")\n",
    "while(n!=\"0\"):\n",
    "    s1.add(n)\n",
    "    n=input(\"enter elements of Set 1(Enter 0 to terminate set 1) : \")\n",
    "    \n",
    "print(\"Set 1 completed\")\n",
    "\n",
    "s2=set()\n",
    "n=input(\"enter elements of Set 2(Enter 0 to terminate set 2) : \")\n",
    "while(n!=\"0\"):\n",
    "    s2.add(n)\n",
    "    n=input(\"enter elements of Set 2(Enter 0 to terminate set 2) : \")\n",
    "    \n",
    "    \n",
    "unionS(s1,s2)"
   ]
  },
  {
   "cell_type": "markdown",
   "id": "d69aef01-00ba-4d66-aa8f-ae93d60c00df",
   "metadata": {},
   "source": [
    "#### 27. Dvelop a code that takes a tuple of integers as input. The function should return the maximum and minimum values from the tuple using tuple unpacking."
   ]
  },
  {
   "cell_type": "code",
   "execution_count": 1,
   "id": "d32e1216-aa8c-4417-a7bb-369adc9061ac",
   "metadata": {},
   "outputs": [
    {
     "name": "stdin",
     "output_type": "stream",
     "text": [
      "Enter elements of Tuple 1 (Enter 0 to terminate Tuple 1):  9\n",
      "Enter elements of Tuple 1 (Enter 0 to terminate Tuple 1):  1\n",
      "Enter elements of Tuple 1 (Enter 0 to terminate Tuple 1):  0\n"
     ]
    },
    {
     "name": "stdout",
     "output_type": "stream",
     "text": [
      "minimum :  1  maximum :  9\n"
     ]
    }
   ],
   "source": [
    "def tupMaxMin(t1):\n",
    "    max_val = t1[0]\n",
    "    min_val = t1[0]\n",
    "    for x in t1:\n",
    "        if x > max_val:\n",
    "            max_val = x\n",
    "        if x < min_val:\n",
    "            min_val = x\n",
    "            \n",
    "    return (min_val, max_val)\n",
    "\n",
    "\n",
    "t1 = ()\n",
    "n = int(input(\"Enter elements of Tuple 1 (Enter 0 to terminate Tuple 1): \"))\n",
    "while n != 0:\n",
    "    t1 = t1 + (n,)\n",
    "    n = int(input(\"Enter elements of Tuple 1 (Enter 0 to terminate Tuple 1): \"))\n",
    "    \n",
    "t=tupMaxMin(t1)\n",
    "min_val, max_val = t\n",
    "print(\"minimum : \", min_val,\" maximum : \",max_val)\n"
   ]
  },
  {
   "cell_type": "markdown",
   "id": "e35e80d1-4f9f-46e0-bfe7-c558aab0d5f2",
   "metadata": {},
   "source": [
    "#### 28. Create a code that defines two sets of integers. Then print the union intersection and difference of these two sets."
   ]
  },
  {
   "cell_type": "code",
   "execution_count": 4,
   "id": "17ee217a-4bd5-4415-8d89-4201b9c0bc16",
   "metadata": {},
   "outputs": [
    {
     "name": "stdin",
     "output_type": "stream",
     "text": [
      "enter elements of Set 1(Enter 0 to terminate set 1) :  9\n",
      "enter elements of Set 1(Enter 0 to terminate set 1) :  1\n",
      "enter elements of Set 1(Enter 0 to terminate set 1) :  8\n",
      "enter elements of Set 1(Enter 0 to terminate set 1) :  0\n"
     ]
    },
    {
     "name": "stdout",
     "output_type": "stream",
     "text": [
      "Set 1 completed\n"
     ]
    },
    {
     "name": "stdin",
     "output_type": "stream",
     "text": [
      "enter elements of Set 2(Enter 0 to terminate set 2) :  2\n",
      "enter elements of Set 2(Enter 0 to terminate set 2) :  9\n",
      "enter elements of Set 2(Enter 0 to terminate set 2) :  8\n",
      "enter elements of Set 2(Enter 0 to terminate set 2) :  4\n",
      "enter elements of Set 2(Enter 0 to terminate set 2) :  2\n",
      "enter elements of Set 2(Enter 0 to terminate set 2) :  0\n"
     ]
    },
    {
     "name": "stdout",
     "output_type": "stream",
     "text": [
      "union :  {'4', '1', '9', '8', '2'}\n",
      "Intersection :  {'9', '8'}\n",
      "difference :  {'1'}\n"
     ]
    }
   ],
   "source": [
    "def unionS(s1,s2):\n",
    "    return s1|s2\n",
    "\n",
    "def Intersection(s1,s2):\n",
    "    return s1 & s2\n",
    "\n",
    "def difference(s1,s2):\n",
    "    return s1-s2\n",
    "\n",
    "s1=set()\n",
    "n=input(\"enter elements of Set 1(Enter 0 to terminate set 1) : \")\n",
    "while(n!=\"0\"):\n",
    "    s1.add(n)\n",
    "    n=input(\"enter elements of Set 1(Enter 0 to terminate set 1) : \")\n",
    "    \n",
    "print(\"Set 1 completed\")\n",
    "\n",
    "s2=set()\n",
    "n=input(\"enter elements of Set 2(Enter 0 to terminate set 2) : \")\n",
    "while(n!=\"0\"):\n",
    "    s2.add(n)\n",
    "    n=input(\"enter elements of Set 2(Enter 0 to terminate set 2) : \")\n",
    "    \n",
    "print(\"union : \",unionS(s1,s2))\n",
    "print(\"Intersection : \",Intersection(s1,s2))\n",
    "print(\"difference : \",difference(s1,s2))"
   ]
  },
  {
   "cell_type": "markdown",
   "id": "ee676947-7e3a-436a-b4bf-6787f1e06da4",
   "metadata": {},
   "source": [
    "#### 29.Write a code that takes a tuple and an element as input. The function should return the count of occurrences of the given element in the tuple."
   ]
  },
  {
   "cell_type": "code",
   "execution_count": 5,
   "id": "14f318a2-0dc3-40bb-b6ce-1e77895400af",
   "metadata": {},
   "outputs": [
    {
     "data": {
      "text/plain": [
       "4"
      ]
     },
     "execution_count": 5,
     "metadata": {},
     "output_type": "execute_result"
    }
   ],
   "source": [
    "def counTup(t1,a):\n",
    "    count=0\n",
    "    for x in t1:\n",
    "        if(x==a):\n",
    "            count+=1\n",
    "    return count\n",
    "\n",
    "t1=(1,2,3,1,1,3,3,4,2,1,4,5)\n",
    "counTup(t1,1)"
   ]
  },
  {
   "cell_type": "markdown",
   "id": "0322a60b-2e34-4615-ac3b-1ba252de2b55",
   "metadata": {},
   "source": [
    "#### 30. Develop a code that prompts the user to input two sets of strings. Then print the symmetric difference of these two sets."
   ]
  },
  {
   "cell_type": "code",
   "execution_count": 7,
   "id": "a01b427a-1d68-4461-9009-0c921f23f3e9",
   "metadata": {},
   "outputs": [
    {
     "name": "stdin",
     "output_type": "stream",
     "text": [
      "enter elements of Set 1(Enter 0 to terminate set 1) :  my\n",
      "enter elements of Set 1(Enter 0 to terminate set 1) :  name\n",
      "enter elements of Set 1(Enter 0 to terminate set 1) :  is\n",
      "enter elements of Set 1(Enter 0 to terminate set 1) :  rahul\n",
      "enter elements of Set 1(Enter 0 to terminate set 1) :  singh\n",
      "enter elements of Set 1(Enter 0 to terminate set 1) :  0\n"
     ]
    },
    {
     "name": "stdout",
     "output_type": "stream",
     "text": [
      "Set 1 completed\n"
     ]
    },
    {
     "name": "stdin",
     "output_type": "stream",
     "text": [
      "enter elements of Set 2(Enter 0 to terminate set 2) :  rahul\n",
      "enter elements of Set 2(Enter 0 to terminate set 2) :  singh\n",
      "enter elements of Set 2(Enter 0 to terminate set 2) :  plays\n",
      "enter elements of Set 2(Enter 0 to terminate set 2) :  cricket\n",
      "enter elements of Set 2(Enter 0 to terminate set 2) :  0\n"
     ]
    },
    {
     "data": {
      "text/plain": [
       "{'cricket', 'is', 'my', 'name', 'plays'}"
      ]
     },
     "execution_count": 7,
     "metadata": {},
     "output_type": "execute_result"
    }
   ],
   "source": [
    "def Symmetric_difference(s1,s2):\n",
    "    return s1^s2\n",
    "\n",
    "s1=set()\n",
    "n=input(\"enter elements of Set 1(Enter 0 to terminate set 1) : \")\n",
    "while(n!=\"0\"):\n",
    "    s1.add(n)\n",
    "    n=input(\"enter elements of Set 1(Enter 0 to terminate set 1) : \")\n",
    "    \n",
    "print(\"Set 1 completed\")\n",
    "\n",
    "s2=set()\n",
    "n=input(\"enter elements of Set 2(Enter 0 to terminate set 2) : \")\n",
    "while(n!=\"0\"):\n",
    "    s2.add(n)\n",
    "    n=input(\"enter elements of Set 2(Enter 0 to terminate set 2) : \")\n",
    "    \n",
    "Symmetric_difference(s1,s2)"
   ]
  },
  {
   "cell_type": "markdown",
   "id": "bdda3889-6b43-42eb-a8b8-04637c93f021",
   "metadata": {},
   "source": [
    "#### 31. Write a code that takes a list of words as input and returns a dictionary where the keys are unique words and the values are the frequencies of those words in the input list."
   ]
  },
  {
   "cell_type": "code",
   "execution_count": 8,
   "id": "adee6b71-5846-461e-bac0-eb1a2be8a6d6",
   "metadata": {},
   "outputs": [
    {
     "data": {
      "text/plain": [
       "{'rahul': 3, 'Singh': 1, 'is': 2, 'my': 2, 'name': 2, 'and': 1, 'are': 1}"
      ]
     },
     "execution_count": 8,
     "metadata": {},
     "output_type": "execute_result"
    }
   ],
   "source": [
    "def freq(l):\n",
    "    d={}\n",
    "    for x in l:\n",
    "        if x in d:\n",
    "            d[x]+=1\n",
    "        else:\n",
    "            d[x]=1\n",
    "    return d\n",
    "\n",
    "l=[\"rahul\", \"Singh\", \"rahul\", \"is\", \"my\" ,\"name\",\"and\",\"is\" ,\"are\", \"my\",\"name\" ,\"rahul\"]\n",
    "freq(l)"
   ]
  },
  {
   "cell_type": "markdown",
   "id": "442c0c65-110c-4fcf-99ff-82b5b611e235",
   "metadata": {},
   "source": [
    "#### 32. Write a code that takes two dictionaries as input and merges them into a single dictionary. If there are common keys the values should be added together."
   ]
  },
  {
   "cell_type": "code",
   "execution_count": 9,
   "id": "91d8ab68-d355-4bb6-879c-e3ffcc797f8c",
   "metadata": {},
   "outputs": [
    {
     "data": {
      "text/plain": [
       "{'rahul': 6,\n",
       " 'Singh': 2,\n",
       " 'is': 2,\n",
       " 'my': 2,\n",
       " 'name': 2,\n",
       " 'and': 1,\n",
       " 'are': 1,\n",
       " 'apple': 2,\n",
       " 'Mango': 1,\n",
       " 'banana': 5}"
      ]
     },
     "execution_count": 9,
     "metadata": {},
     "output_type": "execute_result"
    }
   ],
   "source": [
    "def combineDict(d1,d2):\n",
    "    d={}\n",
    "    for x in d1:\n",
    "        d[x]=d1[x]\n",
    "    for x in d2:\n",
    "        if x in d:\n",
    "            d[x]+=d2[x]\n",
    "        else:\n",
    "            d[x]=d2[x]\n",
    "    return d\n",
    "\n",
    "d1={'rahul': 3, 'Singh': 1, 'is': 2, 'my': 2, 'name': 2, 'and': 1, 'are': 1}\n",
    "d2={'rahul': 3, 'Singh': 1, \"apple\" :2, \"Mango\" : 1 , \"banana\" : 5}\n",
    "combineDict(d1,d2)"
   ]
  },
  {
   "cell_type": "markdown",
   "id": "de2b5b93-f840-45c0-9e65-ac0c2cbf4136",
   "metadata": {},
   "source": [
    "#### 33. Write a code to access a value in a nested dictionary. The function should take the dictionary and a list of keys as input and return the corresponding value. If any of the keys do not exist in the dictionary the function should return None."
   ]
  },
  {
   "cell_type": "code",
   "execution_count": 14,
   "id": "03c7f1c5-5e26-4630-bbd0-37b42051c624",
   "metadata": {},
   "outputs": [
    {
     "data": {
      "text/plain": [
       "[3, 1, 2, 2]"
      ]
     },
     "execution_count": 14,
     "metadata": {},
     "output_type": "execute_result"
    }
   ],
   "source": [
    "def retValue(d,li):\n",
    "    l=[]\n",
    "    for x in li:\n",
    "        if x in d:\n",
    "            l.append(d[x])\n",
    "        else:\n",
    "            l.append( None)\n",
    "    return l            \n",
    "d={'rahul': 3, 'Singh': 1, 'is': 2, 'my': 2, 'name': 2, 'and': 1, 'are': 1}\n",
    "l=[\"rahul\", \"Singh\", \"is\", \"my\"]\n",
    "retValue(d,l)"
   ]
  },
  {
   "cell_type": "markdown",
   "id": "5af7b145-1daa-4896-9a79-2b0e654845d5",
   "metadata": {},
   "source": [
    "#### 34. Write a code that takes a dictionary as input and returns a sorted version of it based on the values. You can choose whether to sort in ascending or descending order."
   ]
  },
  {
   "cell_type": "code",
   "execution_count": null,
   "id": "411f8595-cc3b-4cfb-b949-7e7d14c0e74f",
   "metadata": {},
   "outputs": [],
   "source": []
  },
  {
   "cell_type": "markdown",
   "id": "73794837-a7a5-4834-8c47-c9d97b6365b2",
   "metadata": {},
   "source": [
    "#### 35.  Write a code that inverts a dictionary swapping keys and values. Ensure that the inverted dictionary correctly handles cases where multiple keys have the same value by storing the kays as a list in the inverted dictionary."
   ]
  },
  {
   "cell_type": "code",
   "execution_count": 17,
   "id": "bdc83201-fa05-46cf-88b0-679e469a4a68",
   "metadata": {},
   "outputs": [
    {
     "data": {
      "text/plain": [
       "{3: ['rahul'], 1: ['Singh', 'and', 'are'], 2: ['is', 'my', 'name']}"
      ]
     },
     "execution_count": 17,
     "metadata": {},
     "output_type": "execute_result"
    }
   ],
   "source": [
    "def invert_dict(d):\n",
    "    inverDict = {}\n",
    "    \n",
    "    for key, value in d.items():\n",
    "        if value not in inverDict:\n",
    "            inverDict[value] = [key]  \n",
    "        else:\n",
    "            inverDict[value].append(key)  \n",
    "\n",
    "    return inverDict\n",
    "\n",
    "d={'rahul': 3, 'Singh': 1, 'is': 2, 'my': 2, 'name': 2, 'and': 1, 'are': 1}\n",
    "invert_dict(d)"
   ]
  }
 ],
 "metadata": {
  "kernelspec": {
   "display_name": "Python 3 (ipykernel)",
   "language": "python",
   "name": "python3"
  },
  "language_info": {
   "codemirror_mode": {
    "name": "ipython",
    "version": 3
   },
   "file_extension": ".py",
   "mimetype": "text/x-python",
   "name": "python",
   "nbconvert_exporter": "python",
   "pygments_lexer": "ipython3",
   "version": "3.10.8"
  }
 },
 "nbformat": 4,
 "nbformat_minor": 5
}
